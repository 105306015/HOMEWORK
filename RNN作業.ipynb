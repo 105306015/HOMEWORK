{
 "cells": [
  {
   "cell_type": "code",
   "execution_count": 1,
   "metadata": {},
   "outputs": [],
   "source": [
    "%matplotlib inline\n",
    "import numpy as np\n",
    "import matplotlib.pyplot as plt\n",
    "import pandas as pd"
   ]
  },
  {
   "cell_type": "code",
   "execution_count": 2,
   "metadata": {},
   "outputs": [],
   "source": [
    "from tensorflow.keras.preprocessing import sequence\n",
    "from tensorflow.keras.models import Sequential\n",
    "from tensorflow.keras.layers import Dense, Embedding\n",
    "from tensorflow.keras.layers import LSTM\n",
    "from tensorflow.keras.datasets import imdb"
   ]
  },
  {
   "cell_type": "markdown",
   "metadata": {},
   "source": [
    " # 常用數字量改為9000"
   ]
  },
  {
   "cell_type": "code",
   "execution_count": 13,
   "metadata": {},
   "outputs": [],
   "source": [
    "(x_train,y_train),(x_test,y_test)= imdb.load_data(num_words=9000)"
   ]
  },
  {
   "cell_type": "code",
   "execution_count": 14,
   "metadata": {},
   "outputs": [
    {
     "data": {
      "text/plain": [
       "25000"
      ]
     },
     "execution_count": 14,
     "metadata": {},
     "output_type": "execute_result"
    }
   ],
   "source": [
    "len(x_train)"
   ]
  },
  {
   "cell_type": "markdown",
   "metadata": {},
   "source": [
    "# 資料長度改為150"
   ]
  },
  {
   "cell_type": "code",
   "execution_count": 15,
   "metadata": {},
   "outputs": [],
   "source": [
    "x_train = sequence.pad_sequences(x_train, maxlen = 150)\n",
    "x_test = sequence.pad_sequences(x_test, maxlen = 150)"
   ]
  },
  {
   "cell_type": "code",
   "execution_count": 16,
   "metadata": {},
   "outputs": [],
   "source": [
    "model= Sequential()"
   ]
  },
  {
   "cell_type": "code",
   "execution_count": 17,
   "metadata": {},
   "outputs": [],
   "source": [
    "model.add(Embedding(9000,128))"
   ]
  },
  {
   "cell_type": "markdown",
   "metadata": {},
   "source": [
    "# dropout 改為0.3"
   ]
  },
  {
   "cell_type": "code",
   "execution_count": 18,
   "metadata": {},
   "outputs": [],
   "source": [
    "model.add(LSTM(64, dropout=0.3, recurrent_dropout=0.3))"
   ]
  },
  {
   "cell_type": "code",
   "execution_count": 19,
   "metadata": {},
   "outputs": [],
   "source": [
    "model.add(Dense(1, activation = 'sigmoid'))"
   ]
  },
  {
   "cell_type": "code",
   "execution_count": 20,
   "metadata": {},
   "outputs": [],
   "source": [
    "model.compile(loss='binary_crossentropy',\n",
    "             optimizer='adam',\n",
    "             metrics=['accuracy']) "
   ]
  },
  {
   "cell_type": "code",
   "execution_count": 21,
   "metadata": {
    "scrolled": true
   },
   "outputs": [
    {
     "name": "stdout",
     "output_type": "stream",
     "text": [
      "Model: \"sequential_1\"\n",
      "_________________________________________________________________\n",
      "Layer (type)                 Output Shape              Param #   \n",
      "=================================================================\n",
      "embedding_1 (Embedding)      (None, None, 128)         1152000   \n",
      "_________________________________________________________________\n",
      "lstm_1 (LSTM)                (None, 64)                49408     \n",
      "_________________________________________________________________\n",
      "dense_1 (Dense)              (None, 1)                 65        \n",
      "=================================================================\n",
      "Total params: 1,201,473\n",
      "Trainable params: 1,201,473\n",
      "Non-trainable params: 0\n",
      "_________________________________________________________________\n"
     ]
    }
   ],
   "source": [
    "model.summary()"
   ]
  },
  {
   "cell_type": "markdown",
   "metadata": {},
   "source": [
    "# batch_size改為30 ， epochs改為15"
   ]
  },
  {
   "cell_type": "code",
   "execution_count": 22,
   "metadata": {
    "scrolled": true
   },
   "outputs": [
    {
     "name": "stdout",
     "output_type": "stream",
     "text": [
      "Train on 25000 samples, validate on 25000 samples\n",
      "Epoch 1/15\n",
      "25000/25000 [==============================] - 118s 5ms/sample - loss: 0.4731 - accuracy: 0.7742 - val_loss: 0.3893 - val_accuracy: 0.8313\n",
      "Epoch 2/15\n",
      "25000/25000 [==============================] - 121s 5ms/sample - loss: 0.3684 - accuracy: 0.8472 - val_loss: 0.3789 - val_accuracy: 0.8442\n",
      "Epoch 3/15\n",
      "25000/25000 [==============================] - 121s 5ms/sample - loss: 0.3426 - accuracy: 0.8572 - val_loss: 0.4289 - val_accuracy: 0.8202\n",
      "Epoch 4/15\n",
      "25000/25000 [==============================] - 120s 5ms/sample - loss: 0.2798 - accuracy: 0.8872 - val_loss: 0.3963 - val_accuracy: 0.8337\n",
      "Epoch 5/15\n",
      "25000/25000 [==============================] - 122s 5ms/sample - loss: 0.2407 - accuracy: 0.9058 - val_loss: 0.4589 - val_accuracy: 0.8166\n",
      "Epoch 6/15\n",
      "25000/25000 [==============================] - 131s 5ms/sample - loss: 0.2143 - accuracy: 0.9146 - val_loss: 0.3995 - val_accuracy: 0.8537\n",
      "Epoch 7/15\n",
      "25000/25000 [==============================] - 125s 5ms/sample - loss: 0.1757 - accuracy: 0.9331 - val_loss: 0.4468 - val_accuracy: 0.8352\n",
      "Epoch 8/15\n",
      "25000/25000 [==============================] - 123s 5ms/sample - loss: 0.1566 - accuracy: 0.9403 - val_loss: 0.4426 - val_accuracy: 0.8488\n",
      "Epoch 9/15\n",
      "25000/25000 [==============================] - 134s 5ms/sample - loss: 0.1317 - accuracy: 0.9514 - val_loss: 0.4778 - val_accuracy: 0.8369\n",
      "Epoch 10/15\n",
      "25000/25000 [==============================] - 146s 6ms/sample - loss: 0.1101 - accuracy: 0.9603 - val_loss: 0.5079 - val_accuracy: 0.8390\n",
      "Epoch 11/15\n",
      "25000/25000 [==============================] - 148s 6ms/sample - loss: 0.0888 - accuracy: 0.9684 - val_loss: 0.5615 - val_accuracy: 0.8422\n",
      "Epoch 12/15\n",
      "25000/25000 [==============================] - 133s 5ms/sample - loss: 0.0735 - accuracy: 0.9747 - val_loss: 0.5946 - val_accuracy: 0.8445\n",
      "Epoch 13/15\n",
      "25000/25000 [==============================] - 153s 6ms/sample - loss: 0.0602 - accuracy: 0.9796 - val_loss: 0.6574 - val_accuracy: 0.8411\n",
      "Epoch 14/15\n",
      "25000/25000 [==============================] - 148s 6ms/sample - loss: 0.0513 - accuracy: 0.9836 - val_loss: 0.6678 - val_accuracy: 0.8388\n",
      "Epoch 15/15\n",
      "25000/25000 [==============================] - 148s 6ms/sample - loss: 0.0461 - accuracy: 0.9850 - val_loss: 0.6695 - val_accuracy: 0.8275\n"
     ]
    },
    {
     "data": {
      "text/plain": [
       "<tensorflow.python.keras.callbacks.History at 0x195073b4470>"
      ]
     },
     "execution_count": 22,
     "metadata": {},
     "output_type": "execute_result"
    }
   ],
   "source": [
    "model.fit(x_train, y_train, batch_size=30, epochs=15, validation_data=(x_test, y_test))"
   ]
  },
  {
   "cell_type": "markdown",
   "metadata": {},
   "source": [
    "準確率為 0.8275"
   ]
  },
  {
   "cell_type": "code",
   "execution_count": null,
   "metadata": {},
   "outputs": [],
   "source": []
  }
 ],
 "metadata": {
  "kernelspec": {
   "display_name": "Python 3",
   "language": "python",
   "name": "python3"
  },
  "language_info": {
   "codemirror_mode": {
    "name": "ipython",
    "version": 3
   },
   "file_extension": ".py",
   "mimetype": "text/x-python",
   "name": "python",
   "nbconvert_exporter": "python",
   "pygments_lexer": "ipython3",
   "version": "3.6.4"
  }
 },
 "nbformat": 4,
 "nbformat_minor": 2
}
